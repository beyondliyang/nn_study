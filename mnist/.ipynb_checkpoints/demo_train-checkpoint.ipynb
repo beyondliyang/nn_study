{
 "cells": [
  {
   "cell_type": "code",
   "execution_count": 249,
   "metadata": {},
   "outputs": [],
   "source": [
    "import pickle\n",
    "import gzip\n",
    "import numpy as np"
   ]
  },
  {
   "cell_type": "code",
   "execution_count": 250,
   "metadata": {},
   "outputs": [],
   "source": [
    "f = gzip.open(\"./data/mnist.pkl.gz\", \"rb\")"
   ]
  },
  {
   "cell_type": "code",
   "execution_count": 251,
   "metadata": {},
   "outputs": [],
   "source": [
    "train_tuple_data, valid_tuple_data, test_tuple_data = pickle.load(f, encoding=\"bytes\")"
   ]
  },
  {
   "cell_type": "code",
   "execution_count": 252,
   "metadata": {},
   "outputs": [],
   "source": [
    "train_data = train_tuple_data[0]\n",
    "train_label = train_tuple_data[1]"
   ]
  },
  {
   "cell_type": "code",
   "execution_count": 253,
   "metadata": {},
   "outputs": [],
   "source": [
    "one_hot_train_label = []\n",
    "for label in train_label:\n",
    "    one_hot_label = np.zeros([10])\n",
    "    one_hot_label[label] = 1\n",
    "    one_hot_train_label.append(one_hot_label)"
   ]
  },
  {
   "cell_type": "code",
   "execution_count": 254,
   "metadata": {},
   "outputs": [],
   "source": [
    "valid_data = valid_tuple_data[0]\n",
    "valid_label = valid_tuple_data[1]"
   ]
  },
  {
   "cell_type": "code",
   "execution_count": 255,
   "metadata": {},
   "outputs": [],
   "source": [
    "test_data = test_tuple_data[0]\n",
    "test_label = test_tuple_data[1]"
   ]
  },
  {
   "cell_type": "code",
   "execution_count": 271,
   "metadata": {},
   "outputs": [],
   "source": [
    "#定义网络\n",
    "net = [784, 40, 10]\n",
    "num_layers = len(net)\n",
    "weights = [np.random.randn(i, j) for i, j in zip(net[:-1], net[1:])]\n",
    "bias = [np.random.randn(i) for i in net[1:]]"
   ]
  },
  {
   "cell_type": "code",
   "execution_count": 272,
   "metadata": {},
   "outputs": [],
   "source": [
    "def sigmoid(x):\n",
    "    return 1.0 / (1 + np.exp(-x))\n",
    "\n",
    "def sigmoid_derivative(x):\n",
    "    return sigmoid(x) * (1 - sigmoid(x))"
   ]
  },
  {
   "cell_type": "code",
   "execution_count": 273,
   "metadata": {},
   "outputs": [],
   "source": [
    "def cost_derivative(output_activations, y):\n",
    "    return (output_activations - y)"
   ]
  },
  {
   "cell_type": "code",
   "execution_count": 274,
   "metadata": {},
   "outputs": [],
   "source": [
    "def forward(batch_data):\n",
    "    a = batch_data\n",
    "    for w, b in zip(weights, bias):\n",
    "        z = np.matmul(a, w) + b\n",
    "        a = sigmoid(z)\n",
    "    return a"
   ]
  },
  {
   "cell_type": "code",
   "execution_count": 275,
   "metadata": {},
   "outputs": [],
   "source": [
    "def back_prop(batch_data, batch_label):\n",
    "    zs = []\n",
    "    activates = [batch_data]\n",
    "    #前向传播\n",
    "    for w, b in zip(weights, bias):\n",
    "        z = np.matmul(activates[-1], w) + b\n",
    "        zs.append(z)\n",
    "        activates.append(sigmoid(z))\n",
    "    \n",
    "    #delta的值\n",
    "    delta = cost_derivative(activates[-1], batch_label) * sigmoid_derivative(zs[-1])\n",
    "    #填充位，用于放参数\n",
    "    nalba_w = [np.zeros(w.shape) for w in weights]\n",
    "    nalba_b = [np.zeros(b.shape) for b in bias]\n",
    "    nalba_b[-1] = delta\n",
    "    nalba_w[-1] =  np.matmul(activates[-2].transpose(), delta)\n",
    "    for l in range(2, len_net):\n",
    "        sp = sigmoid_derivative(zs[-l])\n",
    "        delta = np.matmul(delta, weights[-l+1].transpose()) * sp\n",
    "        nalba_b[-l] = delta\n",
    "        nalba_w[-l] = np.matmul(activates[-l-1].transpose(), delta)\n",
    "    return nalba_w, nalba_b"
   ]
  },
  {
   "cell_type": "code",
   "execution_count": 277,
   "metadata": {},
   "outputs": [
    {
     "name": "stdout",
     "output_type": "stream",
     "text": [
      "epoch:0\t corret:9085/10000\n",
      "epoch:1\t corret:9254/10000\n",
      "epoch:2\t corret:9338/10000\n",
      "epoch:3\t corret:9387/10000\n",
      "epoch:4\t corret:9430/10000\n",
      "epoch:5\t corret:9428/10000\n",
      "epoch:6\t corret:9466/10000\n",
      "epoch:7\t corret:9481/10000\n",
      "epoch:8\t corret:9476/10000\n",
      "epoch:9\t corret:9477/10000\n",
      "epoch:10\t corret:9484/10000\n",
      "epoch:11\t corret:9507/10000\n",
      "epoch:12\t corret:9503/10000\n",
      "epoch:13\t corret:9522/10000\n",
      "epoch:14\t corret:9485/10000\n",
      "epoch:15\t corret:9511/10000\n",
      "epoch:16\t corret:9499/10000\n",
      "epoch:17\t corret:9515/10000\n",
      "epoch:18\t corret:9515/10000\n",
      "epoch:19\t corret:9530/10000\n",
      "epoch:20\t corret:9519/10000\n",
      "epoch:21\t corret:9531/10000\n",
      "epoch:22\t corret:9520/10000\n",
      "epoch:23\t corret:9532/10000\n",
      "epoch:24\t corret:9527/10000\n",
      "epoch:25\t corret:9539/10000\n",
      "epoch:26\t corret:9532/10000\n",
      "epoch:27\t corret:9521/10000\n",
      "epoch:28\t corret:9531/10000\n",
      "epoch:29\t corret:9531/10000\n"
     ]
    }
   ],
   "source": [
    "epoch_num = 30\n",
    "for epoch in range(epoch_num):\n",
    "    batch_size = 10\n",
    "    batch_num = len(train_data)//batch_size\n",
    "    for batch in range(batch_num):\n",
    "        begin = batch * batch_size\n",
    "        end = begin + batch_size\n",
    "        batch_data = train_data[begin:end]\n",
    "        batch_label = one_hot_train_label[begin:end]\n",
    "\n",
    "        nalba_w, nalba_b = back_prop(batch_data, batch_label)\n",
    "        #跟新w,b\n",
    "        eta = 3.0\n",
    "        weights = [w - (eta * nw / batch_size) for w, nw in zip(weights, nalba_w)]\n",
    "        bias = [b - (eta*np.sum(nb, axis=0) / batch_size) for b, nb in zip(bias, nalba_b)]\n",
    "    \n",
    "    x = forward(test_data)\n",
    "    y = np.argmax(x, axis=1)\n",
    "    correct_num = np.sum(y == test_label)\n",
    "    print(\"epoch:{0}\\tcorret:{1}/{2}\".format(epoch, correct_num, len(test_data)))"
   ]
  },
  {
   "cell_type": "code",
   "execution_count": 238,
   "metadata": {},
   "outputs": [],
   "source": []
  },
  {
   "cell_type": "code",
   "execution_count": 169,
   "metadata": {},
   "outputs": [],
   "source": []
  },
  {
   "cell_type": "code",
   "execution_count": 172,
   "metadata": {},
   "outputs": [],
   "source": []
  }
 ],
 "metadata": {
  "kernelspec": {
   "display_name": "Python 3",
   "language": "python",
   "name": "python3"
  },
  "language_info": {
   "codemirror_mode": {
    "name": "ipython",
    "version": 3
   },
   "file_extension": ".py",
   "mimetype": "text/x-python",
   "name": "python",
   "nbconvert_exporter": "python",
   "pygments_lexer": "ipython3",
   "version": "3.6.8"
  }
 },
 "nbformat": 4,
 "nbformat_minor": 2
}
